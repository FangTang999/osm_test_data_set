{
  "nbformat": 4,
  "nbformat_minor": 0,
  "metadata": {
    "colab": {
      "name": "osm2gmns_Alicia.ipynb",
      "provenance": [],
      "collapsed_sections": [],
      "include_colab_link": true
    },
    "kernelspec": {
      "name": "python3",
      "display_name": "Python 3"
    }
  },
  "cells": [
    {
      "cell_type": "markdown",
      "metadata": {
        "id": "view-in-github",
        "colab_type": "text"
      },
      "source": [
        "<a href=\"https://colab.research.google.com/github/FangTang999/osm_test_data_set/blob/main/osm2gmns_Alicia.ipynb\" target=\"_parent\"><img src=\"https://colab.research.google.com/assets/colab-badge.svg\" alt=\"Open In Colab\"/></a>"
      ]
    },
    {
      "cell_type": "markdown",
      "metadata": {
        "id": "O7xH52SXrT5v"
      },
      "source": [
        "## Install dependency"
      ]
    },
    {
      "cell_type": "code",
      "metadata": {
        "colab": {
          "base_uri": "https://localhost:8080/"
        },
        "id": "EbsmFT4OF6Jn",
        "outputId": "abd274f3-a6f8-478b-b364-8920e5547a02"
      },
      "source": [
        "!pip install osm2gmns"
      ],
      "execution_count": 1,
      "outputs": [
        {
          "output_type": "stream",
          "text": [
            "Requirement already satisfied: osm2gmns in /usr/local/lib/python3.7/dist-packages (0.4.2)\n",
            "Requirement already satisfied: protobuf>=3.14.0 in /usr/local/lib/python3.7/dist-packages (from osm2gmns) (3.15.7)\n",
            "Requirement already satisfied: shapely>=1.7 in /usr/local/lib/python3.7/dist-packages (from osm2gmns) (1.7.1)\n",
            "Requirement already satisfied: pandas>=0.24.0 in /usr/local/lib/python3.7/dist-packages (from osm2gmns) (1.1.5)\n",
            "Requirement already satisfied: six>=1.9 in /usr/local/lib/python3.7/dist-packages (from protobuf>=3.14.0->osm2gmns) (1.15.0)\n",
            "Requirement already satisfied: numpy>=1.15.4 in /usr/local/lib/python3.7/dist-packages (from pandas>=0.24.0->osm2gmns) (1.19.5)\n",
            "Requirement already satisfied: python-dateutil>=2.7.3 in /usr/local/lib/python3.7/dist-packages (from pandas>=0.24.0->osm2gmns) (2.8.1)\n",
            "Requirement already satisfied: pytz>=2017.2 in /usr/local/lib/python3.7/dist-packages (from pandas>=0.24.0->osm2gmns) (2018.9)\n"
          ],
          "name": "stdout"
        }
      ]
    },
    {
      "cell_type": "code",
      "metadata": {
        "colab": {
          "base_uri": "https://localhost:8080/"
        },
        "id": "_-NrFvX1FK8k",
        "outputId": "54733fec-f8a2-4a38-ca88-bef70a9e1cd6"
      },
      "source": [
        "!pip install grid2demand"
      ],
      "execution_count": 2,
      "outputs": [
        {
          "output_type": "stream",
          "text": [
            "Requirement already satisfied: grid2demand in /usr/local/lib/python3.7/dist-packages (0.0.1.25)\n",
            "Requirement already satisfied: numpy in /usr/local/lib/python3.7/dist-packages (from grid2demand) (1.19.5)\n",
            "Requirement already satisfied: pandas>=0.24.0 in /usr/local/lib/python3.7/dist-packages (from grid2demand) (1.1.5)\n",
            "Requirement already satisfied: pytz>=2017.2 in /usr/local/lib/python3.7/dist-packages (from pandas>=0.24.0->grid2demand) (2018.9)\n",
            "Requirement already satisfied: python-dateutil>=2.7.3 in /usr/local/lib/python3.7/dist-packages (from pandas>=0.24.0->grid2demand) (2.8.1)\n",
            "Requirement already satisfied: six>=1.5 in /usr/local/lib/python3.7/dist-packages (from python-dateutil>=2.7.3->pandas>=0.24.0->grid2demand) (1.15.0)\n"
          ],
          "name": "stdout"
        }
      ]
    },
    {
      "cell_type": "markdown",
      "metadata": {
        "id": "VF90kxJ2reVt"
      },
      "source": [
        "## Clone demo map data form Github Repository\n",
        "#### less than 25 MB due to Github limit"
      ]
    },
    {
      "cell_type": "code",
      "metadata": {
        "colab": {
          "base_uri": "https://localhost:8080/"
        },
        "id": "0heQ8qMtejgX",
        "outputId": "ce89606b-062a-48d5-c567-5c3b29486c0a"
      },
      "source": [
        "!rm -rf ./osm_test_data_set/\n",
        "!rm -rf ./osm_test_data_set/Market_Street/\n",
        "!git clone https://github.com/FangTang999/osm_test_data_set"
      ],
      "execution_count": 3,
      "outputs": [
        {
          "output_type": "stream",
          "text": [
            "Cloning into 'osm_test_data_set'...\n",
            "remote: Enumerating objects: 74, done.\u001b[K\n",
            "remote: Counting objects: 100% (74/74), done.\u001b[K\n",
            "remote: Compressing objects: 100% (70/70), done.\u001b[K\n",
            "remote: Total 74 (delta 28), reused 6 (delta 0), pack-reused 0\u001b[K\n",
            "Unpacking objects: 100% (74/74), done.\n"
          ],
          "name": "stdout"
        }
      ]
    },
    {
      "cell_type": "markdown",
      "metadata": {
        "id": "qkHm0iVzrp8u"
      },
      "source": [
        "## Script\n",
        "### Import Modules"
      ]
    },
    {
      "cell_type": "code",
      "metadata": {
        "id": "JrrUKHe2FE3U",
        "colab": {
          "base_uri": "https://localhost:8080/"
        },
        "outputId": "189a491a-e91c-4f38-e8b7-c547aeadf08b"
      },
      "source": [
        "import numpy as np\n",
        "from matplotlib import pyplot as plt\n",
        "import osm2gmns\n",
        "import osm2gmns as og\n",
        "import grid2demand as gd\n",
        "from google.colab import files\n",
        "import psutil\n",
        "import os\n",
        "\n",
        "# !mkdir ./osm_test_data_set/Market_Street"
      ],
      "execution_count": 4,
      "outputs": [
        {
          "output_type": "stream",
          "text": [
            "osm2gmns, version 0.4.2\n",
            "grid2demand, version 0.0.1.25\n"
          ],
          "name": "stdout"
        }
      ]
    },
    {
      "cell_type": "markdown",
      "metadata": {
        "id": "x9BfcgIpr6df"
      },
      "source": [
        "### Convert OSM data to GMNS"
      ]
    },
    {
      "cell_type": "code",
      "metadata": {
        "id": "3UL0MUnaHAD5"
      },
      "source": [
        "net = og.getNetFromOSMFile('./osm_test_data_set/Market_Street/OSM/map', POIs=True)\n",
        "og.connectPOIWithNet(net)\n",
        "og.generateNodeActivityInfo(net)\n",
        "og.outputNetToCSV(net, output_folder='./osm_test_data_set/Market_Street/OSM') "
      ],
      "execution_count": 5,
      "outputs": []
    },
    {
      "cell_type": "markdown",
      "metadata": {
        "id": "AH_Z3CWhsaKj"
      },
      "source": [
        "### Convert BBBike data to GMNS"
      ]
    },
    {
      "cell_type": "code",
      "metadata": {
        "id": "P8LVVZGDssZq"
      },
      "source": [
        "net = og.getNetFromOSMFile('./osm_test_data_set/Market_Street/BBBike/planet_-122.438,37.762_-122.415,37.776.osm', POIs=True)\n",
        "og.connectPOIWithNet(net)\n",
        "og.generateNodeActivityInfo(net)\n",
        "og.outputNetToCSV(net, output_folder='./osm_test_data_set/Market_Street/BBBike') "
      ],
      "execution_count": 6,
      "outputs": []
    },
    {
      "cell_type": "markdown",
      "metadata": {
        "id": "saeMecd4x9BL"
      },
      "source": [
        "###Covert *.pbf to GMNS\n"
      ]
    },
    {
      "cell_type": "code",
      "metadata": {
        "id": "ssqshOvZyUpk"
      },
      "source": [
        "net = og.getNetFromPBFFile('./osm_test_data_set/Market_Street/PBF/planet_-122.503_37.707_8631ef4d.osm.pbf', POIs=True)\n",
        "og.connectPOIWithNet(net)\n",
        "og.generateNodeActivityInfo(net)\n",
        "og.outputNetToCSV(net, output_folder='./osm_test_data_set/Market_Street/PBF') "
      ],
      "execution_count": 7,
      "outputs": []
    },
    {
      "cell_type": "code",
      "metadata": {
        "colab": {
          "base_uri": "https://localhost:8080/"
        },
        "id": "NniR6fpuM8hX",
        "outputId": "e2b4db9c-d83d-4c18-f08c-b39dae64ae26"
      },
      "source": [
        "print('RAM USAGE：',round(psutil.Process(os.getpid()).memory_info().rss/1000**3,2),'GB/12GB')"
      ],
      "execution_count": 8,
      "outputs": [
        {
          "output_type": "stream",
          "text": [
            "RAM USAGE： 4.58 GB/12GB\n"
          ],
          "name": "stdout"
        }
      ]
    },
    {
      "cell_type": "markdown",
      "metadata": {
        "id": "AaHbMTqX3iBj"
      },
      "source": [
        "## Download Results"
      ]
    },
    {
      "cell_type": "code",
      "metadata": {
        "id": "U92nxb_LyZ8u",
        "colab": {
          "base_uri": "https://localhost:8080/"
        },
        "outputId": "7f8ffafa-d0ca-4b4c-fbbf-0e155888cafa"
      },
      "source": [
        "!zip -r  ./Market_Street.zip ./osm_test_data_set/Market_Street/"
      ],
      "execution_count": 9,
      "outputs": [
        {
          "output_type": "stream",
          "text": [
            "updating: osm_test_data_set/Market_Street/ (stored 0%)\n",
            "updating: osm_test_data_set/Market_Street/OSM/ (stored 0%)\n",
            "updating: osm_test_data_set/Market_Street/OSM/map (deflated 91%)\n",
            "updating: osm_test_data_set/Market_Street/OSM/link.csv (deflated 81%)\n",
            "updating: osm_test_data_set/Market_Street/OSM/node.csv (deflated 69%)\n",
            "updating: osm_test_data_set/Market_Street/OSM/poi.csv (deflated 76%)\n",
            "updating: osm_test_data_set/Market_Street/PBF/ (stored 0%)\n",
            "updating: osm_test_data_set/Market_Street/PBF/planet_-122.503_37.707_8631ef4d.osm.pbf (deflated 0%)\n",
            "updating: osm_test_data_set/Market_Street/BBBike/ (stored 0%)\n",
            "updating: osm_test_data_set/Market_Street/BBBike/planet_-122.438,37.762_-122.415,37.776.osm (deflated 87%)\n",
            "updating: osm_test_data_set/Market_Street/BBBike/link.csv (deflated 81%)\n",
            "updating: osm_test_data_set/Market_Street/BBBike/node.csv (deflated 69%)\n",
            "updating: osm_test_data_set/Market_Street/BBBike/poi.csv (deflated 76%)\n",
            "  adding: osm_test_data_set/Market_Street/PBF/link.csv (deflated 82%)\n",
            "  adding: osm_test_data_set/Market_Street/PBF/node.csv (deflated 70%)\n",
            "  adding: osm_test_data_set/Market_Street/PBF/poi.csv (deflated 76%)\n"
          ],
          "name": "stdout"
        }
      ]
    },
    {
      "cell_type": "code",
      "metadata": {
        "id": "GufK0fzxEQ8z",
        "colab": {
          "base_uri": "https://localhost:8080/",
          "height": 17
        },
        "outputId": "15d58365-8359-439a-920f-8284b598adbe"
      },
      "source": [
        "from google.colab import files\n",
        "files.download(\"./Market_Street.zip\")"
      ],
      "execution_count": 10,
      "outputs": [
        {
          "output_type": "display_data",
          "data": {
            "application/javascript": [
              "\n",
              "    async function download(id, filename, size) {\n",
              "      if (!google.colab.kernel.accessAllowed) {\n",
              "        return;\n",
              "      }\n",
              "      const div = document.createElement('div');\n",
              "      const label = document.createElement('label');\n",
              "      label.textContent = `Downloading \"${filename}\": `;\n",
              "      div.appendChild(label);\n",
              "      const progress = document.createElement('progress');\n",
              "      progress.max = size;\n",
              "      div.appendChild(progress);\n",
              "      document.body.appendChild(div);\n",
              "\n",
              "      const buffers = [];\n",
              "      let downloaded = 0;\n",
              "\n",
              "      const channel = await google.colab.kernel.comms.open(id);\n",
              "      // Send a message to notify the kernel that we're ready.\n",
              "      channel.send({})\n",
              "\n",
              "      for await (const message of channel.messages) {\n",
              "        // Send a message to notify the kernel that we're ready.\n",
              "        channel.send({})\n",
              "        if (message.buffers) {\n",
              "          for (const buffer of message.buffers) {\n",
              "            buffers.push(buffer);\n",
              "            downloaded += buffer.byteLength;\n",
              "            progress.value = downloaded;\n",
              "          }\n",
              "        }\n",
              "      }\n",
              "      const blob = new Blob(buffers, {type: 'application/binary'});\n",
              "      const a = document.createElement('a');\n",
              "      a.href = window.URL.createObjectURL(blob);\n",
              "      a.download = filename;\n",
              "      div.appendChild(a);\n",
              "      a.click();\n",
              "      div.remove();\n",
              "    }\n",
              "  "
            ],
            "text/plain": [
              "<IPython.core.display.Javascript object>"
            ]
          },
          "metadata": {
            "tags": []
          }
        },
        {
          "output_type": "display_data",
          "data": {
            "application/javascript": [
              "download(\"download_eb1b35ce-351c-4014-bb2e-da8aea575ff1\", \"Market_Street.zip\", 44770818)"
            ],
            "text/plain": [
              "<IPython.core.display.Javascript object>"
            ]
          },
          "metadata": {
            "tags": []
          }
        }
      ]
    }
  ]
}